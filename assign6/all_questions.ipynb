{
 "cells": [
  {
   "cell_type": "markdown",
   "metadata": {},
   "source": [
    "1. Write a function that takes a string as a parameter and returns a string with every successive repetitive\n",
    "character replaced with a star(*). For example, 'balloon' is returned as 'bal*o*n'."
   ]
  },
  {
   "cell_type": "code",
   "execution_count": null,
   "metadata": {},
   "outputs": [
    {
     "name": "stdout",
     "output_type": "stream",
     "text": [
      "Hel*o World*\n"
     ]
    }
   ],
   "source": [
    "def replace_successive(s):\n",
    "    s1 = \"\"\n",
    "    prev = \"\"\n",
    "    for x in s:\n",
    "        if x == prev:\n",
    "            s1 += \"*\"\n",
    "        else:\n",
    "            s1 += x\n",
    "        prev = x\n",
    "    return s1\n",
    "\n",
    "\n",
    "print(replace_successive(\"Hello Worldd\"))\n"
   ]
  },
  {
   "cell_type": "markdown",
   "metadata": {},
   "source": [
    "2. Write a function that takes two strings and returns True if they are anagrams and False otherwise. A\n",
    "pair of strings is anagrams if the letters in one word can be arranged to form the second one."
   ]
  },
  {
   "cell_type": "code",
   "execution_count": 18,
   "metadata": {},
   "outputs": [
    {
     "name": "stdout",
     "output_type": "stream",
     "text": [
      "True\n",
      "False\n",
      "True\n",
      "\n"
     ]
    }
   ],
   "source": [
    "def check_anagram(s1, s2):\n",
    "    count = {}\n",
    "\n",
    "    for x in s1:\n",
    "        if x not in count:\n",
    "            count[x] = 1\n",
    "        else:\n",
    "            count[x] += 1\n",
    "\n",
    "    for x in s2:\n",
    "        if x not in count or count[x] == 0:\n",
    "            return False\n",
    "        else:\n",
    "            count[x] -= 1\n",
    "    \n",
    "    for x in count:\n",
    "        if count[x]!=0:\n",
    "            return False\n",
    "\n",
    "    return True\n",
    "\n",
    "\n",
    "print(check_anagram(\"silent\", \"listen\"))\n",
    "print(check_anagram(\"silentSD\", \"listenS\"))\n",
    "print(check_anagram(\"sIsilent\", \"listensI\"))\n",
    "print()"
   ]
  },
  {
   "cell_type": "markdown",
   "metadata": {},
   "source": [
    "3. Write a function that takes a sentence as an input parameter and displays the number of words in the\n",
    "sentence."
   ]
  },
  {
   "cell_type": "code",
   "execution_count": null,
   "metadata": {},
   "outputs": [
    {
     "name": "stdout",
     "output_type": "stream",
     "text": [
      "5\n"
     ]
    }
   ],
   "source": [
    "import re\n",
    "\n",
    "\n",
    "def count_words(s):\n",
    "    return len(re.findall(r\"\\s\", s)) + 1\n",
    "\n",
    "\n",
    "print(count_words(\"Hello world this is test\"))\n"
   ]
  },
  {
   "cell_type": "markdown",
   "metadata": {},
   "source": [
    "4. Write a function that takes a string as an input and determines the count of the number of words\n",
    "without using regular expression."
   ]
  },
  {
   "cell_type": "code",
   "execution_count": null,
   "metadata": {},
   "outputs": [
    {
     "name": "stdout",
     "output_type": "stream",
     "text": [
      "Hello\n",
      "Hello\n"
     ]
    }
   ],
   "source": [
    "def capitalize(w):\n",
    "    w1 = \"\"\n",
    "    for i, x in enumerate(w):\n",
    "        if i == 0:\n",
    "            if 97 <= ord(x) <= 122:\n",
    "                w1 += chr(ord(x) - 32)\n",
    "            else:\n",
    "                w1 += x\n",
    "        else:\n",
    "            if 97 <= ord(x) <= 122:\n",
    "                w1 += x\n",
    "            else:\n",
    "                w1 += chr(ord(x) + 32)\n",
    "    return w1\n",
    "\n",
    "\n",
    "print(capitalize(\"hello\"))\n",
    "print(capitalize(\"HELLO\"))\n"
   ]
  },
  {
   "cell_type": "markdown",
   "metadata": {},
   "source": [
    "6. What will be the output on executing each of the statements, following the assignment statement:"
   ]
  },
  {
   "cell_type": "code",
   "execution_count": null,
   "metadata": {},
   "outputs": [
    {
     "name": "stdout",
     "output_type": "stream",
     "text": [
      "22\n",
      "Delh\n",
      "B-6, Lodhi road, Delhi\n",
      "B-6, Lodhi road, Delhi\n",
      "-1\n",
      "b-6, lODHI ROAD, dELHI\n",
      "False\n"
     ]
    }
   ],
   "source": [
    "address = \"B-6, Lodhi road, Delhi\"\n",
    "print(len(address))\n",
    "print(address[17:-1])\n",
    "print(address[-len(address) : len(address)])\n",
    "print(address[:-12] + address[-12:])\n",
    "print(address.find(\"delhi\"))\n",
    "print(address.swapcase())\n",
    "print(address.isalnum())\n"
   ]
  },
  {
   "cell_type": "code",
   "execution_count": null,
   "metadata": {},
   "outputs": [
    {
     "data": {
      "text/plain": [
       "True"
      ]
     },
     "execution_count": 6,
     "metadata": {},
     "output_type": "execute_result"
    }
   ],
   "source": [
    "greeting = \"Good MorninHave a Good Day!!\"\n",
    "greeting.count(\"Good\")\n",
    "greeting.find(\"a\")\n",
    "greeting.rfind(\"a\")\n",
    "greeting.capitalize()\n",
    "greeting.lower()\n",
    "greeting.upper()\n",
    "greeting.swapcase()\n",
    "greeting.istitle()\n",
    "greeting.replace(\"Good\", \"Sweet\")\n",
    "greeting.strip()\n",
    "greeting.split()\n",
    "greeting.partition(\".\")\n",
    "greeting.startswith(\"good\")\n",
    "greeting.endswith(\"!!\")\n"
   ]
  },
  {
   "cell_type": "markdown",
   "metadata": {},
   "source": [
    "8. Determine the patterns extracted by the following regular expressions."
   ]
  },
  {
   "cell_type": "code",
   "execution_count": null,
   "metadata": {},
   "outputs": [
    {
     "name": "stdout",
     "output_type": "stream",
     "text": [
      "None\n",
      "['Python']\n",
      "Lang\n",
      "Language\n",
      "Python\n",
      "Python\n",
      "Programm\n",
      "Python Programming Language\n",
      "Python Programming\n",
      "Python Programming Language\n"
     ]
    }
   ],
   "source": [
    "import re\n",
    "\n",
    "string1 = \"\"\"Python Programming Language\"\"\"\n",
    "print(re.search(r\"prog\", string1))\n",
    "print(re.findall(r\"python|Python\", string1))\n",
    "print(re.search(r\"Lang|there\", string1).group())\n",
    "print(re.search(r\"L.+e\", string1).group())\n",
    "print(re.search(r\"(p|P)ython\", string1).group())\n",
    "print(re.search(r\"......m?\", string1).group())\n",
    "print(re.search(r\"......m{1,3}\", string1).group())\n",
    "print(re.search(r\".*Language\", string1).group())\n",
    "print(re.search(r\"\\w*\\s\\w*\", string1).group())\n",
    "print(re.search(r\".*\", string1).group())"
   ]
  },
  {
   "cell_type": "code",
   "execution_count": null,
   "metadata": {},
   "outputs": [
    {
     "name": "stdout",
     "output_type": "stream",
     "text": [
      "DL5645\n",
      "Car Number DL5645\n",
      "Car Number DL5645\n",
      "564\n",
      "Car Number DL5645\n"
     ]
    }
   ],
   "source": [
    "import re\n",
    "\n",
    "string2 = \"Car Number DL5645\"\n",
    "match1 = re.search(r\"\\w\\w?\\d{1,4}\", string2)\n",
    "print(match1.group())\n",
    "match2 = re.search(\".*5\", string2)\n",
    "print(match2.group())\n",
    "match3 = re.search(\".*5?\", string2)\n",
    "print(match3.group())\n",
    "match4 = re.search(r\"\\d{3}\", string2)\n",
    "print(match4.group())\n",
    "match5 = re.search(\"^C.*5$\", string2)\n",
    "print(match5.group())"
   ]
  },
  {
   "cell_type": "code",
   "execution_count": null,
   "metadata": {},
   "outputs": [
    {
     "name": "stdout",
     "output_type": "stream",
     "text": [
      "cdcccdcddd343344aabb\n",
      "['d', 'cdcdd', 'd']\n",
      "['', 'cd', '']\n",
      "343344aa\n",
      "cdcccdcddd343344aa\n",
      "cdcccdcddd343344aabb\n"
     ]
    }
   ],
   "source": [
    "string3 = 'cdcccdcddd343344aabb'\n",
    "match1 = re.search(r'(c|d)*\\d*(a|b)*', string3)\n",
    "print(match1.group())\n",
    "match2 = re.finditer(r'(cd)*d', string3)\n",
    "print([match.group() for match in match2])\n",
    "print(re.findall(r'(cd)*d', string3)) # Why o/p is different?\n",
    "match3 = re.search('(cc|cd)*(3|4)*(aa|bb)', string3)\n",
    "print(match3.group())\n",
    "match4 = re.search('(cc|cd|dd)*(3|4)*(aa|bb)', string3)\n",
    "print(match4.group())\n",
    "match5 = re.search('(cc|cd|dd)*(3|4)*(aa|bb)*', string3)\n",
    "print(match5.group())"
   ]
  },
  {
   "cell_type": "markdown",
   "metadata": {},
   "source": [
    "### Misc\n",
    "- Evaluate sin(x) using Taylor series expansion. The error should be less than 10^-9. \n",
    "  Expansion: `sin(x) = x - x^3/3! + x^5/5! - x^7/7! + ...`"
   ]
  },
  {
   "cell_type": "code",
   "execution_count": 10,
   "metadata": {},
   "outputs": [
    {
     "ename": "KeyboardInterrupt",
     "evalue": "Interrupted by user",
     "output_type": "error",
     "traceback": [
      "\u001b[0;31m---------------------------------------------------------------------------\u001b[0m",
      "\u001b[0;31mKeyboardInterrupt\u001b[0m                         Traceback (most recent call last)",
      "Cell \u001b[0;32mIn[10], line 20\u001b[0m\n\u001b[1;32m     18\u001b[0m         \u001b[38;5;28;01mif\u001b[39;00m error \u001b[38;5;241m<\u001b[39m MAX_ERROR:\n\u001b[1;32m     19\u001b[0m             \u001b[38;5;28;01mreturn\u001b[39;00m value\n\u001b[0;32m---> 20\u001b[0m x \u001b[38;5;241m=\u001b[39m \u001b[38;5;28mint\u001b[39m(\u001b[38;5;28;43minput\u001b[39;49m\u001b[43m(\u001b[49m\u001b[38;5;124;43m\"\u001b[39;49m\u001b[38;5;124;43mEnter value of x\u001b[39;49m\u001b[38;5;124;43m\"\u001b[39;49m\u001b[43m)\u001b[49m)\n\u001b[1;32m     21\u001b[0m \u001b[38;5;28mprint\u001b[39m(\u001b[38;5;124mf\u001b[39m\u001b[38;5;124m\"\u001b[39m\u001b[38;5;124mCalculated value of \u001b[39m\u001b[38;5;132;01m{\u001b[39;00msin(x)\u001b[38;5;250m \u001b[39m\u001b[38;5;132;01m= }\u001b[39;00m\u001b[38;5;124m, \u001b[39m\u001b[38;5;132;01m{\u001b[39;00mmath\u001b[38;5;241m.\u001b[39msin(x)\u001b[38;5;250m \u001b[39m\u001b[38;5;132;01m= }\u001b[39;00m\u001b[38;5;124m\"\u001b[39m)\n",
      "File \u001b[0;32m~/.local/lib/python3.12/site-packages/ipykernel/kernelbase.py:1261\u001b[0m, in \u001b[0;36mKernel.raw_input\u001b[0;34m(self, prompt)\u001b[0m\n\u001b[1;32m   1259\u001b[0m     msg \u001b[38;5;241m=\u001b[39m \u001b[38;5;124m\"\u001b[39m\u001b[38;5;124mraw_input was called, but this frontend does not support input requests.\u001b[39m\u001b[38;5;124m\"\u001b[39m\n\u001b[1;32m   1260\u001b[0m     \u001b[38;5;28;01mraise\u001b[39;00m StdinNotImplementedError(msg)\n\u001b[0;32m-> 1261\u001b[0m \u001b[38;5;28;01mreturn\u001b[39;00m \u001b[38;5;28;43mself\u001b[39;49m\u001b[38;5;241;43m.\u001b[39;49m\u001b[43m_input_request\u001b[49m\u001b[43m(\u001b[49m\n\u001b[1;32m   1262\u001b[0m \u001b[43m    \u001b[49m\u001b[38;5;28;43mstr\u001b[39;49m\u001b[43m(\u001b[49m\u001b[43mprompt\u001b[49m\u001b[43m)\u001b[49m\u001b[43m,\u001b[49m\n\u001b[1;32m   1263\u001b[0m \u001b[43m    \u001b[49m\u001b[38;5;28;43mself\u001b[39;49m\u001b[38;5;241;43m.\u001b[39;49m\u001b[43m_parent_ident\u001b[49m\u001b[43m[\u001b[49m\u001b[38;5;124;43m\"\u001b[39;49m\u001b[38;5;124;43mshell\u001b[39;49m\u001b[38;5;124;43m\"\u001b[39;49m\u001b[43m]\u001b[49m\u001b[43m,\u001b[49m\n\u001b[1;32m   1264\u001b[0m \u001b[43m    \u001b[49m\u001b[38;5;28;43mself\u001b[39;49m\u001b[38;5;241;43m.\u001b[39;49m\u001b[43mget_parent\u001b[49m\u001b[43m(\u001b[49m\u001b[38;5;124;43m\"\u001b[39;49m\u001b[38;5;124;43mshell\u001b[39;49m\u001b[38;5;124;43m\"\u001b[39;49m\u001b[43m)\u001b[49m\u001b[43m,\u001b[49m\n\u001b[1;32m   1265\u001b[0m \u001b[43m    \u001b[49m\u001b[43mpassword\u001b[49m\u001b[38;5;241;43m=\u001b[39;49m\u001b[38;5;28;43;01mFalse\u001b[39;49;00m\u001b[43m,\u001b[49m\n\u001b[1;32m   1266\u001b[0m \u001b[43m\u001b[49m\u001b[43m)\u001b[49m\n",
      "File \u001b[0;32m~/.local/lib/python3.12/site-packages/ipykernel/kernelbase.py:1304\u001b[0m, in \u001b[0;36mKernel._input_request\u001b[0;34m(self, prompt, ident, parent, password)\u001b[0m\n\u001b[1;32m   1301\u001b[0m \u001b[38;5;28;01mexcept\u001b[39;00m \u001b[38;5;167;01mKeyboardInterrupt\u001b[39;00m:\n\u001b[1;32m   1302\u001b[0m     \u001b[38;5;66;03m# re-raise KeyboardInterrupt, to truncate traceback\u001b[39;00m\n\u001b[1;32m   1303\u001b[0m     msg \u001b[38;5;241m=\u001b[39m \u001b[38;5;124m\"\u001b[39m\u001b[38;5;124mInterrupted by user\u001b[39m\u001b[38;5;124m\"\u001b[39m\n\u001b[0;32m-> 1304\u001b[0m     \u001b[38;5;28;01mraise\u001b[39;00m \u001b[38;5;167;01mKeyboardInterrupt\u001b[39;00m(msg) \u001b[38;5;28;01mfrom\u001b[39;00m \u001b[38;5;28;01mNone\u001b[39;00m\n\u001b[1;32m   1305\u001b[0m \u001b[38;5;28;01mexcept\u001b[39;00m \u001b[38;5;167;01mException\u001b[39;00m:\n\u001b[1;32m   1306\u001b[0m     \u001b[38;5;28mself\u001b[39m\u001b[38;5;241m.\u001b[39mlog\u001b[38;5;241m.\u001b[39mwarning(\u001b[38;5;124m\"\u001b[39m\u001b[38;5;124mInvalid Message:\u001b[39m\u001b[38;5;124m\"\u001b[39m, exc_info\u001b[38;5;241m=\u001b[39m\u001b[38;5;28;01mTrue\u001b[39;00m)\n",
      "\u001b[0;31mKeyboardInterrupt\u001b[0m: Interrupted by user"
     ]
    }
   ],
   "source": [
    "import math\n",
    "\n",
    "MAX_ERROR = 10**-9\n",
    "def sin(x):\n",
    "    # Principal domain\n",
    "    x = x%(2*math.pi)\n",
    "\n",
    "    actual_value = math.sin(x)\n",
    "    error = 0\n",
    "    term = x\n",
    "    n = 1\n",
    "    value = term\n",
    "    while True:\n",
    "        n+=2\n",
    "        term *= -1 * pow(x, 2)/ (n*(n-1))\n",
    "        value += term\n",
    "        error = abs(value - actual_value)\n",
    "        if error < MAX_ERROR:\n",
    "            return value\n",
    "x = int(input(\"Enter value of x\"))\n",
    "print(f\"Calculated value of {sin(x) = }, {math.sin(x) = }\")\n",
    "    "
   ]
  },
  {
   "cell_type": "code",
   "execution_count": null,
   "metadata": {},
   "outputs": [
    {
     "name": "stdout",
     "output_type": "stream",
     "text": [
      "* \n",
      "* * \n",
      "* * * \n",
      "* * * * \n",
      "* * * * * \n",
      "* * * * * * \n",
      "* * * * * * * \n",
      "* * * * * * * * \n",
      "* * * * * * * * * \n",
      "* * * * * * * * * * \n"
     ]
    }
   ],
   "source": [
    "n=10\n",
    "s=\"\"\n",
    "for i in range(n):\n",
    "    s+=\"* \"\n",
    "    print(s)"
   ]
  },
  {
   "cell_type": "markdown",
   "metadata": {},
   "source": [
    "- Find all words ending with `ing` in a paragraph using regular expressions."
   ]
  },
  {
   "cell_type": "code",
   "execution_count": null,
   "metadata": {},
   "outputs": [
    {
     "name": "stdout",
     "output_type": "stream",
     "text": [
      "['morning', 'doing', 'ing', 'ing', 'doing', 'ringing', 'stuffing']\n"
     ]
    }
   ],
   "source": [
    "import re\n",
    "\n",
    "paragraph = \"\"\"\n",
    "Hello Good morning, what are you doing? ing ing\n",
    "does it print this?\n",
    "This is Ashutosh let's start doing some ringing stuffing!\n",
    "\"\"\"\n",
    "print(re.findall(r\"\\w*ing\", paragraph, re.MULTILINE))"
   ]
  },
  {
   "cell_type": "markdown",
   "metadata": {},
   "source": [
    "- Check Email is valid or not"
   ]
  },
  {
   "cell_type": "code",
   "execution_count": null,
   "metadata": {},
   "outputs": [
    {
     "name": "stdout",
     "output_type": "stream",
     "text": [
      "It's a valid email\n"
     ]
    }
   ],
   "source": [
    "import re\n",
    "\n",
    "\"\"\" Possible emails:\n",
    "a123bc.xyz.123@xyz.whi.chi\n",
    "\"\"\"\n",
    "\n",
    "validator = r\"^[a-z 0-9]+(\\.[a-z 0-9]+)*@([a-z]+\\.)+[a-z]+$\"\n",
    "email = input(\"Enter your email: \")\n",
    "check = re.search(validator, email)\n",
    "if check:\n",
    "    print(\"It's a valid email\")\n",
    "else:\n",
    "    print(\"It's not a valid email\")"
   ]
  },
  {
   "cell_type": "code",
   "execution_count": null,
   "metadata": {},
   "outputs": [],
   "source": []
  }
 ],
 "metadata": {
  "kernelspec": {
   "display_name": "Python 3",
   "language": "python",
   "name": "python3"
  },
  "language_info": {
   "codemirror_mode": {
    "name": "ipython",
    "version": 3
   },
   "file_extension": ".py",
   "mimetype": "text/x-python",
   "name": "python",
   "nbconvert_exporter": "python",
   "pygments_lexer": "ipython3",
   "version": "3.12.0"
  }
 },
 "nbformat": 4,
 "nbformat_minor": 2
}
