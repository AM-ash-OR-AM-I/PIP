{
 "cells": [
  {
   "cell_type": "code",
   "execution_count": 2,
   "metadata": {},
   "outputs": [
    {
     "name": "stdout",
     "output_type": "stream",
     "text": [
      "[1, 2, 3, 1, 2, 3]\n"
     ]
    },
    {
     "ename": "TypeError",
     "evalue": "'<' not supported between instances of 'int' and 'str'",
     "output_type": "error",
     "traceback": [
      "\u001b[0;31m---------------------------------------------------------------------------\u001b[0m",
      "\u001b[0;31mTypeError\u001b[0m                                 Traceback (most recent call last)",
      "Cell \u001b[0;32mIn[2], line 15\u001b[0m\n\u001b[1;32m     11\u001b[0m \u001b[38;5;66;03m# list1[3] = 4\u001b[39;00m\n\u001b[1;32m     12\u001b[0m \u001b[38;5;28mprint\u001b[39m(list1 \u001b[38;5;241m*\u001b[39m \u001b[38;5;241m2\u001b[39m)\n\u001b[0;32m---> 15\u001b[0m \u001b[38;5;28mprint\u001b[39m(\u001b[38;5;28;43mmin\u001b[39;49m\u001b[43m(\u001b[49m\u001b[43mlist2\u001b[49m\u001b[43m)\u001b[49m)\n\u001b[1;32m     16\u001b[0m \u001b[38;5;28mprint\u001b[39m(\u001b[38;5;28mmax\u001b[39m(list1))\n\u001b[1;32m     17\u001b[0m \u001b[38;5;28mprint\u001b[39m(\u001b[38;5;28mlist\u001b[39m(address))\n",
      "\u001b[0;31mTypeError\u001b[0m: '<' not supported between instances of 'int' and 'str'"
     ]
    }
   ],
   "source": [
    "address = \"B-6, Lodhi road, Delhi\"\n",
    "list1 = [1, 2, 3]\n",
    "list2 = [\"a\", 1, \"z\", 26, \"d\", 4]\n",
    "tuple1 = (\"a\", \"e\", \"i\", \"o\", \"u\")\n",
    "tuple2 = ([2, 4, 6, 8], [3, 6, 9], [4, 8], 5)\n",
    "dict1 = {\"apple\": \"red\", \"mango\": \"yellow\", \"orange\": \"orange\"}\n",
    "dict2 = {\n",
    "    \"X\": [\"eng\", \"hindi\", \"maths\", \"science\"],\n",
    "    \"XII\": [\"english\", \"physics\", \"chemistry\", \"maths\"],\n",
    "}\n",
    "list1[3] = 4\n",
    "print(list1 * 2)\n",
    "\n",
    "\n",
    "print(min(list2))\n",
    "print(max(list1))\n",
    "print(list(address))\n",
    "\n",
    "tuple2[3] = 6\n",
    "tuple2.append(5)\n",
    "t1 = tuple2 + (5)\n",
    "\",\".join(tuple1)\n",
    "list(zip([\"apple\", \"orange\"], (\"red\", \"orange\")))\n",
    "dict2[\"XII\"]\n",
    "list2.extend([\"e\", 5])\n",
    "print(list2)\n",
    "list2.append([\"e\", 5])\n",
    "print(list2)\n",
    "names = [\"rohan\", \"mohan\", \"gita\"]\n",
    "names.sort(key=len)\n",
    "print(names)\n",
    "list3 = [(x * 2) for x in range(1, 11)]\n",
    "print(list3)\n",
    "del list3[1:]\n",
    "print(list3)\n",
    "list4 = [x + y for x in range(1, 5) for y in range(1, 5)]\n",
    "print(list4)\n",
    "# 3\n",
    "\n",
    "\n",
    "dict2[\"XII\"].append(\"computer science\"), dict2\n",
    "\"red\" in dict1\n",
    "list(dict1.items())\n",
    "list(dict2.keys())\n",
    "dict2.get(\"XI\", \"None\")"
   ]
  },
  {
   "cell_type": "code",
   "execution_count": null,
   "metadata": {},
   "outputs": [],
   "source": []
  }
 ],
 "metadata": {
  "kernelspec": {
   "display_name": "Python 3",
   "language": "python",
   "name": "python3"
  },
  "language_info": {
   "codemirror_mode": {
    "name": "ipython",
    "version": 3
   },
   "file_extension": ".py",
   "mimetype": "text/x-python",
   "name": "python",
   "nbconvert_exporter": "python",
   "pygments_lexer": "ipython3",
   "version": "3.11.6"
  }
 },
 "nbformat": 4,
 "nbformat_minor": 2
}
